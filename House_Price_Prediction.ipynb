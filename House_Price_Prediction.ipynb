{
 "cells": [
  {
   "cell_type": "markdown",
   "id": "f167fdf8-e555-4f47-840f-a7b9f9381217",
   "metadata": {},
   "source": [
    "# <font color ='blue'>Bangaluru House Price Prediction"
   ]
  },
  {
   "cell_type": "markdown",
   "id": "34aa294a-ca25-4461-8c51-fe6032dbff74",
   "metadata": {},
   "source": [
    "Dataset is downloaded from here :\n",
    "https://www.kaggle.com/amitabhajoy/bengaluru-house-price-data"
   ]
  },
  {
   "cell_type": "code",
   "execution_count": 4,
   "id": "002e499f-c9df-48df-80fd-ec5bfcc9e57f",
   "metadata": {},
   "outputs": [],
   "source": [
    "# Import necessary libraries\n",
    "import pandas as pd\n",
    "import numpy as np\n",
    "import matplotlib\n",
    "import matplotlib.pyplot as plt\n",
    "from sklearn.model_selection import train_test_split, ShuffleSplit, cross_val_score\n",
    "from sklearn.linear_model import LinearRegression, Lasso\n",
    "from sklearn.tree import DecisionTreeRegressor\n",
    "from sklearn.model_selection import GridSearchCV\n",
    "import pickle\n",
    "import json"
   ]
  },
  {
   "cell_type": "markdown",
   "id": "fcb5c044-2c76-425d-872e-4fdd5eec5097",
   "metadata": {},
   "source": [
    "# <font color = 'blue'>Load the data into a DataFrame"
   ]
  },
  {
   "cell_type": "code",
   "execution_count": 6,
   "id": "ae37fd15-c3d7-4b57-b573-2f9bb4468ce5",
   "metadata": {},
   "outputs": [
    {
     "data": {
      "text/html": [
       "<div>\n",
       "<style scoped>\n",
       "    .dataframe tbody tr th:only-of-type {\n",
       "        vertical-align: middle;\n",
       "    }\n",
       "\n",
       "    .dataframe tbody tr th {\n",
       "        vertical-align: top;\n",
       "    }\n",
       "\n",
       "    .dataframe thead th {\n",
       "        text-align: right;\n",
       "    }\n",
       "</style>\n",
       "<table border=\"1\" class=\"dataframe\">\n",
       "  <thead>\n",
       "    <tr style=\"text-align: right;\">\n",
       "      <th></th>\n",
       "      <th>area_type</th>\n",
       "      <th>availability</th>\n",
       "      <th>location</th>\n",
       "      <th>size</th>\n",
       "      <th>society</th>\n",
       "      <th>total_sqft</th>\n",
       "      <th>bath</th>\n",
       "      <th>balcony</th>\n",
       "      <th>price</th>\n",
       "    </tr>\n",
       "  </thead>\n",
       "  <tbody>\n",
       "    <tr>\n",
       "      <th>0</th>\n",
       "      <td>Super built-up  Area</td>\n",
       "      <td>19-Dec</td>\n",
       "      <td>Electronic City Phase II</td>\n",
       "      <td>2 BHK</td>\n",
       "      <td>Coomee</td>\n",
       "      <td>1056</td>\n",
       "      <td>2.0</td>\n",
       "      <td>1.0</td>\n",
       "      <td>39.07</td>\n",
       "    </tr>\n",
       "    <tr>\n",
       "      <th>1</th>\n",
       "      <td>Plot  Area</td>\n",
       "      <td>Ready To Move</td>\n",
       "      <td>Chikka Tirupathi</td>\n",
       "      <td>4 Bedroom</td>\n",
       "      <td>Theanmp</td>\n",
       "      <td>2600</td>\n",
       "      <td>5.0</td>\n",
       "      <td>3.0</td>\n",
       "      <td>120.00</td>\n",
       "    </tr>\n",
       "    <tr>\n",
       "      <th>2</th>\n",
       "      <td>Built-up  Area</td>\n",
       "      <td>Ready To Move</td>\n",
       "      <td>Uttarahalli</td>\n",
       "      <td>3 BHK</td>\n",
       "      <td>NaN</td>\n",
       "      <td>1440</td>\n",
       "      <td>2.0</td>\n",
       "      <td>3.0</td>\n",
       "      <td>62.00</td>\n",
       "    </tr>\n",
       "    <tr>\n",
       "      <th>3</th>\n",
       "      <td>Super built-up  Area</td>\n",
       "      <td>Ready To Move</td>\n",
       "      <td>Lingadheeranahalli</td>\n",
       "      <td>3 BHK</td>\n",
       "      <td>Soiewre</td>\n",
       "      <td>1521</td>\n",
       "      <td>3.0</td>\n",
       "      <td>1.0</td>\n",
       "      <td>95.00</td>\n",
       "    </tr>\n",
       "    <tr>\n",
       "      <th>4</th>\n",
       "      <td>Super built-up  Area</td>\n",
       "      <td>Ready To Move</td>\n",
       "      <td>Kothanur</td>\n",
       "      <td>2 BHK</td>\n",
       "      <td>NaN</td>\n",
       "      <td>1200</td>\n",
       "      <td>2.0</td>\n",
       "      <td>1.0</td>\n",
       "      <td>51.00</td>\n",
       "    </tr>\n",
       "  </tbody>\n",
       "</table>\n",
       "</div>"
      ],
      "text/plain": [
       "              area_type   availability                  location       size  \\\n",
       "0  Super built-up  Area         19-Dec  Electronic City Phase II      2 BHK   \n",
       "1            Plot  Area  Ready To Move          Chikka Tirupathi  4 Bedroom   \n",
       "2        Built-up  Area  Ready To Move               Uttarahalli      3 BHK   \n",
       "3  Super built-up  Area  Ready To Move        Lingadheeranahalli      3 BHK   \n",
       "4  Super built-up  Area  Ready To Move                  Kothanur      2 BHK   \n",
       "\n",
       "   society total_sqft  bath  balcony   price  \n",
       "0  Coomee        1056   2.0      1.0   39.07  \n",
       "1  Theanmp       2600   5.0      3.0  120.00  \n",
       "2      NaN       1440   2.0      3.0   62.00  \n",
       "3  Soiewre       1521   3.0      1.0   95.00  \n",
       "4      NaN       1200   2.0      1.0   51.00  "
      ]
     },
     "execution_count": 6,
     "metadata": {},
     "output_type": "execute_result"
    }
   ],
   "source": [
    "# Load the dataset from a CSV file\n",
    "df = pd.read_csv('C:/Users/rayah/Downloads/ML_Portfolio_Projects/Bangaluru_House_Price_Prediction/Bengaluru_House_Data.csv')\n",
    "\n",
    "# Display the first few rows of the dataset\n",
    "df.head()"
   ]
  },
  {
   "cell_type": "code",
   "execution_count": 7,
   "id": "ef7cc7b0-3848-41ea-bf67-dd667ee5a706",
   "metadata": {},
   "outputs": [
    {
     "name": "stdout",
     "output_type": "stream",
     "text": [
      "Number of rows: 13320, Number of columns: 9\n"
     ]
    }
   ],
   "source": [
    "# Get the number of rows and columns in the DataFrame\n",
    "num_rows, num_cols = df.shape\n",
    "\n",
    "# Print the shape of the DataFrame\n",
    "print(f\"Number of rows: {num_rows}, Number of columns: {num_cols}\")\n"
   ]
  },
  {
   "cell_type": "code",
   "execution_count": 8,
   "id": "4d74ecd8-a509-4e1e-86a8-45ef55e7522c",
   "metadata": {},
   "outputs": [
    {
     "name": "stdout",
     "output_type": "stream",
     "text": [
      "Index(['area_type', 'availability', 'location', 'size', 'society',\n",
      "       'total_sqft', 'bath', 'balcony', 'price'],\n",
      "      dtype='object')\n"
     ]
    }
   ],
   "source": [
    "# Print the column names of the DataFrame\n",
    "print(df.columns)"
   ]
  },
  {
   "cell_type": "code",
   "execution_count": 9,
   "id": "abe99804-eceb-4030-b02a-2da24c967e9c",
   "metadata": {},
   "outputs": [
    {
     "name": "stdout",
     "output_type": "stream",
     "text": [
      "['Super built-up  Area' 'Plot  Area' 'Built-up  Area' 'Carpet  Area']\n"
     ]
    }
   ],
   "source": [
    "# Retrieve the unique values in the 'area_type' column of the DataFrame\n",
    "unique_area_types = df['area_type'].unique()\n",
    "print(unique_area_types)"
   ]
  },
  {
   "cell_type": "code",
   "execution_count": 10,
   "id": "dd63446f-2c35-4d51-b94b-ae854fb4b29a",
   "metadata": {},
   "outputs": [
    {
     "name": "stdout",
     "output_type": "stream",
     "text": [
      "area_type\n",
      "Super built-up  Area    8790\n",
      "Built-up  Area          2418\n",
      "Plot  Area              2025\n",
      "Carpet  Area              87\n",
      "Name: count, dtype: int64\n"
     ]
    }
   ],
   "source": [
    "# Get the count of unique values in the 'area_type' column of the DataFrame\n",
    "area_type_counts = df['area_type'].value_counts()\n",
    "print(area_type_counts)"
   ]
  },
  {
   "cell_type": "markdown",
   "id": "6157ced9-3d26-437a-8e6d-1c5cd81e5129",
   "metadata": {},
   "source": [
    "**Drop features that are not required to build our model**"
   ]
  },
  {
   "cell_type": "code",
   "execution_count": 12,
   "id": "d911b04c-1f2a-4c60-815a-1ca9fe2b8230",
   "metadata": {},
   "outputs": [
    {
     "name": "stdout",
     "output_type": "stream",
     "text": [
      "New shape of the DataFrame: (13320, 5)\n"
     ]
    }
   ],
   "source": [
    "# Drop unnecessary columns from the DataFrame to reduce dimensionality and improve model performance\n",
    "df = df.drop(['area_type', 'society', 'balcony', 'availability'], axis=1)  # Remove specified columns from the DataFrame\n",
    "\n",
    "# Verify the new shape of the DataFrame after dropping columns\n",
    "print(\"New shape of the DataFrame:\", df.shape)"
   ]
  },
  {
   "cell_type": "markdown",
   "id": "7f3b62ac-c302-4d20-aae4-663c2dc36d2b",
   "metadata": {},
   "source": [
    "## <font color = 'blue'> Data Cleaning: Handle NA values"
   ]
  },
  {
   "cell_type": "code",
   "execution_count": 14,
   "id": "b438d634-66e9-4ef8-abab-7d186da4dc43",
   "metadata": {},
   "outputs": [
    {
     "name": "stdout",
     "output_type": "stream",
     "text": [
      "Missing values count: location       1\n",
      "size          16\n",
      "total_sqft     0\n",
      "bath          73\n",
      "price          0\n",
      "dtype: int64\n"
     ]
    }
   ],
   "source": [
    "# Check for missing values in the DataFrame\n",
    "missing_value_count = df.isna().sum()\n",
    "\n",
    "# Return the count of missing values for each column\n",
    "print(\"Missing values count:\", missing_value_count)\n"
   ]
  },
  {
   "cell_type": "code",
   "execution_count": 15,
   "id": "a6f438eb-8f41-4705-914a-e218bbe6033a",
   "metadata": {},
   "outputs": [
    {
     "name": "stdout",
     "output_type": "stream",
     "text": [
      "DataFrame Shape: (13320, 5)\n"
     ]
    }
   ],
   "source": [
    "# Get the shape of the DataFrame, which returns a tuple containing the number of rows and the number of columns\n",
    "df_shape = df.shape\n",
    "\n",
    "# Print the shape of the DataFrame in a readable format\n",
    "print(\"DataFrame Shape:\", df_shape)\n"
   ]
  },
  {
   "cell_type": "code",
   "execution_count": 16,
   "id": "32ae1718-ed7b-4ca1-b952-7f8793217ec8",
   "metadata": {},
   "outputs": [
    {
     "name": "stdout",
     "output_type": "stream",
     "text": [
      "Missing values count after removing rows: location      0\n",
      "size          0\n",
      "total_sqft    0\n",
      "bath          0\n",
      "price         0\n",
      "dtype: int64\n",
      "DataFrame shape after removing rows: (13246, 5)\n"
     ]
    }
   ],
   "source": [
    "# Remove rows with any missing values\n",
    "df = df.dropna()\n",
    "\n",
    "# Check and display the count of missing values in each column\n",
    "missing_values_count = df.isna().sum()  # Calculate the number of missing values for each column\n",
    "print(\"Missing values count after removing rows:\", missing_values_count)\n",
    "\n",
    "# Print the shape of the DataFrame (number of rows and columns)\n",
    "print(\"DataFrame shape after removing rows:\", df.shape)\n"
   ]
  },
  {
   "cell_type": "markdown",
   "id": "1c295c71-6b3d-4d04-a79b-45fccc296e49",
   "metadata": {},
   "source": [
    "## <font color = 'blue'>Feature Engineering"
   ]
  },
  {
   "cell_type": "markdown",
   "id": "0ead4610-ef76-4065-a6e6-e8c548810764",
   "metadata": {},
   "source": [
    "**Add new feaurees (interger) for bhk (Bedrooms Hall Kitchen)**"
   ]
  },
  {
   "cell_type": "code",
   "execution_count": 19,
   "id": "0a623af1-9ee0-46da-adec-348fe280a230",
   "metadata": {},
   "outputs": [
    {
     "name": "stdout",
     "output_type": "stream",
     "text": [
      "Unique sizes: ['2 BHK' '4 Bedroom' '3 BHK' '4 BHK' '6 Bedroom' '3 Bedroom' '1 BHK'\n",
      " '1 RK' '1 Bedroom' '8 Bedroom' '2 Bedroom' '7 Bedroom' '5 BHK' '7 BHK'\n",
      " '6 BHK' '5 Bedroom' '11 BHK' '9 BHK' '9 Bedroom' '27 BHK' '10 Bedroom'\n",
      " '11 Bedroom' '10 BHK' '19 BHK' '16 BHK' '43 Bedroom' '14 BHK' '8 BHK'\n",
      " '12 Bedroom' '13 BHK' '18 Bedroom']\n"
     ]
    }
   ],
   "source": [
    "# Accessing the 'size' column of the DataFrame 'df' and getting the unique values in that column\n",
    "unique_sizes = df['size'].unique()  # Retrieve unique values from the 'size' column\n",
    "print(\"Unique sizes:\", unique_sizes)\n"
   ]
  },
  {
   "cell_type": "code",
   "execution_count": 20,
   "id": "14a19e87-f3ef-4fe0-b7a5-137af7786f88",
   "metadata": {},
   "outputs": [
    {
     "name": "stdout",
     "output_type": "stream",
     "text": [
      "Unique BHK values: [ 2  4  3  6  1  8  7  5 11  9 27 10 19 16 43 14 12 13 18]\n"
     ]
    }
   ],
   "source": [
    "# Extract the number of bedrooms (BHK) from the 'size' column\n",
    "df['bhk'] = df['size'].apply(lambda x: int(x.split(' ')[0]))  # Split the string, take the first element, and convert to integer\n",
    "\n",
    "# Print the unique values in the 'bhk' column\n",
    "print(\"Unique BHK values:\", df.bhk.unique())\n"
   ]
  },
  {
   "cell_type": "code",
   "execution_count": 21,
   "id": "f6fc78cc-bb80-42fb-91e4-dc5c60745ad2",
   "metadata": {},
   "outputs": [
    {
     "name": "stdout",
     "output_type": "stream",
     "text": [
      "Filtered DataFrame:                        location        size total_sqft  bath  price  bhk\n",
      "1718  2Electronic City Phase II      27 BHK       8000  27.0  230.0   27\n",
      "4684                Munnekollal  43 Bedroom       2400  40.0  660.0   43\n"
     ]
    }
   ],
   "source": [
    "# Filter the DataFrame 'df' to include only rows where the 'bhk' column value is greater than 20\n",
    "filtered_df = df[df['bhk'] > 20]\n",
    "print(\"Filtered DataFrame:\", filtered_df)\n"
   ]
  },
  {
   "cell_type": "code",
   "execution_count": 22,
   "id": "061cbd02-d7d9-4d12-a438-ec7dfbbdbeee",
   "metadata": {},
   "outputs": [
    {
     "name": "stdout",
     "output_type": "stream",
     "text": [
      "Unique values in 'total_sqft' column:\n",
      "['1056' '2600' '1440' ... '1133 - 1384' '774' '4689']\n"
     ]
    }
   ],
   "source": [
    "# Extract the unique values from the 'total_sqft' column\n",
    "unique_sqft_values = df['total_sqft'].unique()\n",
    "\n",
    "# Print the unique values\n",
    "print(\"Unique values in 'total_sqft' column:\")\n",
    "print(unique_sqft_values)"
   ]
  },
  {
   "cell_type": "markdown",
   "id": "a7795350-9537-4148-bf89-5e553ff9be49",
   "metadata": {},
   "source": [
    "**Explore total_sqft feature**"
   ]
  },
  {
   "cell_type": "code",
   "execution_count": 24,
   "id": "881a6f2a-4f3d-4a2d-be75-a45a384cfbfe",
   "metadata": {},
   "outputs": [],
   "source": [
    "# Define a function to check if a value can be converted to a float\n",
    "def is_float(x):\n",
    "    \"\"\"\n",
    "    Checks if the given input 'x' can be converted to a float.\n",
    "    \n",
    "    Args:\n",
    "        x (str or any): The input to be checked.\n",
    "    \n",
    "    Returns:\n",
    "        bool: True if the input can be converted to a float, False otherwise.\n",
    "    \"\"\"\n",
    "    try:\n",
    "        # Attempt to convert the input to a float\n",
    "        float(x)  # This line tries to convert 'x' to a float\n",
    "    except:\n",
    "        # If the conversion fails, return False\n",
    "        return False  # Return False if an exception occurs during conversion\n",
    "    # If the conversion succeeds, return True\n",
    "    return True  # Return True if the conversion is successful\n"
   ]
  },
  {
   "cell_type": "code",
   "execution_count": 25,
   "id": "0bc5a600-8d96-470b-9d4e-0fe326c32196",
   "metadata": {},
   "outputs": [
    {
     "name": "stdout",
     "output_type": "stream",
     "text": [
      "Rows where 'total_sqft' is not a float:                location       size      total_sqft  bath    price  bhk\n",
      "30            Yelahanka      4 BHK     2100 - 2850   4.0  186.000    4\n",
      "122              Hebbal      4 BHK     3067 - 8156   4.0  477.000    4\n",
      "137  8th Phase JP Nagar      2 BHK     1042 - 1105   2.0   54.005    2\n",
      "165            Sarjapur      2 BHK     1145 - 1340   2.0   43.490    2\n",
      "188            KR Puram      2 BHK     1015 - 1540   2.0   56.800    2\n",
      "410             Kengeri      1 BHK  34.46Sq. Meter   1.0   18.500    1\n",
      "549         Hennur Road      2 BHK     1195 - 1440   2.0   63.770    2\n",
      "648             Arekere  9 Bedroom       4125Perch   9.0  265.000    9\n",
      "661           Yelahanka      2 BHK     1120 - 1145   2.0   48.130    2\n",
      "672        Bettahalsoor  4 Bedroom     3090 - 5002   4.0  445.000    4\n"
     ]
    }
   ],
   "source": [
    "# Filter the dataframe to show rows where 'total_sqft' is not a float\n",
    "non_float_sqft = df[~df['total_sqft'].apply(is_float)].head(10)\n",
    "print(\"Rows where 'total_sqft' is not a float:\", non_float_sqft)\n"
   ]
  },
  {
   "cell_type": "markdown",
   "id": "dbdef944-1e91-4145-af9f-81177715dfb1",
   "metadata": {},
   "source": [
    "**Above shows that total_sqft can be a range (e.g. 2100-2850). For such case we can just take average of min and max value in the range. There are other cases such as 34.46Sq. Meter which one can convert to square ft using unit conversion. I am going to just drop such corner cases to keep things simple**"
   ]
  },
  {
   "cell_type": "code",
   "execution_count": 27,
   "id": "7931f5c1-a292-4620-b500-a8943550f145",
   "metadata": {},
   "outputs": [],
   "source": [
    "# Define a function to convert square footage strings to numeric values\n",
    "def convert_sqft_to_num(x):\n",
    "    \"\"\"\n",
    "    Converts a square footage string to a numeric value.\n",
    "\n",
    "    Args:\n",
    "        x (str): The square footage string, which can be in the format of a single number or a range separated by a hyphen.\n",
    "\n",
    "    Returns:\n",
    "        float or None: The numeric value of the square footage. If the input string cannot be converted, it returns None.\n",
    "    \"\"\"\n",
    "    # Split the input string by the hyphen to check if it's a range\n",
    "    tokens = x.split('-')\n",
    "    \n",
    "    # If the input is a range, calculate the average of the two values\n",
    "    if len(tokens) == 2:\n",
    "        return (float(tokens[0]) + float(tokens[1])) / 2\n",
    "    \n",
    "    # If the input is a single number, try to convert it to a float\n",
    "    try:\n",
    "        return float(x)\n",
    "    # If the conversion fails, return None\n",
    "    except:\n",
    "        return None\n"
   ]
  },
  {
   "cell_type": "code",
   "execution_count": 28,
   "id": "a5e428b2-12c0-4ab9-b027-e05727f2ff8b",
   "metadata": {},
   "outputs": [
    {
     "name": "stdout",
     "output_type": "stream",
     "text": [
      "Modified DataFrame:                    location       size  total_sqft  bath   price  bhk\n",
      "0  Electronic City Phase II      2 BHK      1056.0   2.0   39.07    2\n",
      "1          Chikka Tirupathi  4 Bedroom      2600.0   5.0  120.00    4\n",
      "2               Uttarahalli      3 BHK      1440.0   2.0   62.00    3\n"
     ]
    }
   ],
   "source": [
    "# Create a copy of the original DataFrame\n",
    "df1 = df.copy()\n",
    "\n",
    "# Apply the function to the 'total_sqft' column to convert it to a numerical value\n",
    "df1['total_sqft'] = df1['total_sqft'].apply(convert_sqft_to_num)\n",
    "\n",
    "# Display the first 3 rows of the modified DataFrame\n",
    "print(\"Modified DataFrame:\", df1.head(3))\n"
   ]
  },
  {
   "cell_type": "markdown",
   "id": "befa1ef9-72a2-4c1a-b11a-99237cb0960a",
   "metadata": {},
   "source": [
    "**For below row, it shows total_sqft as 2475 which is an average of the range 2100-2850**"
   ]
  },
  {
   "cell_type": "code",
   "execution_count": 30,
   "id": "ebadd973-6f32-4a4d-ad95-16afd4491eab",
   "metadata": {},
   "outputs": [
    {
     "name": "stdout",
     "output_type": "stream",
     "text": [
      "Row 30: location      Yelahanka\n",
      "size              4 BHK\n",
      "total_sqft       2475.0\n",
      "bath                4.0\n",
      "price             186.0\n",
      "bhk                   4\n",
      "Name: 30, dtype: object\n"
     ]
    }
   ],
   "source": [
    "# Access the row at index 30 of the DataFrame df1\n",
    "row_30 = df1.loc[30]  # Using the .loc method to retrieve the row by its index\n",
    "\n",
    "# Print or use the row as needed\n",
    "print(\"Row 30:\", row_30)"
   ]
  },
  {
   "cell_type": "markdown",
   "id": "ad9605e9-7a3b-4bc2-a090-e751254d849d",
   "metadata": {},
   "source": [
    "**Add new feature called price per square feet**"
   ]
  },
  {
   "cell_type": "code",
   "execution_count": 32,
   "id": "dcf1aa0a-0a31-4f7b-b8b7-3a010c0c90cd",
   "metadata": {},
   "outputs": [
    {
     "name": "stdout",
     "output_type": "stream",
     "text": [
      "Updated DataFrame:                    location       size  total_sqft  bath   price  bhk  \\\n",
      "0  Electronic City Phase II      2 BHK      1056.0   2.0   39.07    2   \n",
      "1          Chikka Tirupathi  4 Bedroom      2600.0   5.0  120.00    4   \n",
      "2               Uttarahalli      3 BHK      1440.0   2.0   62.00    3   \n",
      "3        Lingadheeranahalli      3 BHK      1521.0   3.0   95.00    3   \n",
      "4                  Kothanur      2 BHK      1200.0   2.0   51.00    2   \n",
      "\n",
      "   price_per_sqft  \n",
      "0     3699.810606  \n",
      "1     4615.384615  \n",
      "2     4305.555556  \n",
      "3     6245.890861  \n",
      "4     4250.000000  \n"
     ]
    }
   ],
   "source": [
    "# Create a copy of the original dataframe to avoid modifying it\n",
    "df2 = df1.copy()\n",
    "\n",
    "# Calculate the price per square foot\n",
    "# Convert price to rupees (multiply by 100000) and divide by total square feet\n",
    "df2['price_per_sqft'] = (df2['price'] * 100000) / df2['total_sqft']\n",
    "\n",
    "# Display the first few rows of the updated dataframe to verify the changes\n",
    "print(\"Updated DataFrame:\", df2.head())"
   ]
  },
  {
   "cell_type": "code",
   "execution_count": 33,
   "id": "773c3b68-4504-48b8-b50d-97b4dcae8a9d",
   "metadata": {},
   "outputs": [
    {
     "data": {
      "text/plain": [
       "count    1.320000e+04\n",
       "mean     7.920759e+03\n",
       "std      1.067272e+05\n",
       "min      2.678298e+02\n",
       "25%      4.267701e+03\n",
       "50%      5.438331e+03\n",
       "75%      7.317073e+03\n",
       "max      1.200000e+07\n",
       "Name: price_per_sqft, dtype: float64"
      ]
     },
     "execution_count": 33,
     "metadata": {},
     "output_type": "execute_result"
    }
   ],
   "source": [
    "# Display descriptive statistics of the 'price_per_sqft' column\n",
    "# This will include count, mean, standard deviation, min, 25th percentile, median, 75th percentile, and max values\n",
    "df2.price_per_sqft.describe()"
   ]
  },
  {
   "cell_type": "markdown",
   "id": "c484a511-76f4-4369-a40e-f569470e7164",
   "metadata": {},
   "source": [
    "**Examine locations which is a categorical variable. We need to apply dimensionality reduction technique here to reduce number of locations**"
   ]
  },
  {
   "cell_type": "code",
   "execution_count": 35,
   "id": "73ed8d35-177e-4c67-91cb-12c8de698a92",
   "metadata": {},
   "outputs": [
    {
     "name": "stdout",
     "output_type": "stream",
     "text": [
      "1304\n"
     ]
    }
   ],
   "source": [
    "# Get the unique locations from the 'location' column\n",
    "unique_locations = df2['location'].unique()\n",
    "\n",
    "# Calculate the number of unique locations using the len() function\n",
    "num_unique_locations = len(unique_locations)\n",
    "\n",
    "# Print the result, which is the count of unique locations found in the DataFrame\n",
    "print(num_unique_locations)"
   ]
  },
  {
   "cell_type": "code",
   "execution_count": 36,
   "id": "80df1228-566b-460c-9127-c81a871aad48",
   "metadata": {},
   "outputs": [
    {
     "name": "stdout",
     "output_type": "stream",
     "text": [
      "location\n",
      "Whitefield                        535\n",
      "Sarjapur  Road                    392\n",
      "Electronic City                   304\n",
      "Kanakpura Road                    266\n",
      "Thanisandra                       236\n",
      "                                 ... \n",
      "Vasantapura main road               1\n",
      "Bapuji Layout                       1\n",
      "1st Stage Radha Krishna Layout      1\n",
      "BEML Layout 5th stage               1\n",
      "Abshot Layout                       1\n",
      "Name: count, Length: 1293, dtype: int64\n"
     ]
    }
   ],
   "source": [
    "# Strip whitespace from 'location' column values\n",
    "df2.location = df2.location.apply(lambda x: x.strip())\n",
    "\n",
    "# Count occurrences of each unique location, sorted in descending order\n",
    "location_stats = df2['location'].value_counts(ascending=False)\n",
    "\n",
    "# Display the location statistics\n",
    "print(location_stats)"
   ]
  },
  {
   "cell_type": "code",
   "execution_count": 37,
   "id": "8c9a3275-beec-4b0a-b19e-9e3b01328a11",
   "metadata": {},
   "outputs": [
    {
     "name": "stdout",
     "output_type": "stream",
     "text": [
      "The number of locations with a value of 10 or less is: 1052\n"
     ]
    }
   ],
   "source": [
    "# Count the number of locations with a value less than or equal to 10\n",
    "# This line filters the 'location_stats' DataFrame to include only those locations\n",
    "# where the value is less than or equal to 10, and then calculates the length\n",
    "# of the resulting filtered DataFrame to get the count of such locations.\n",
    "num_locations_10_or_less = len(location_stats[location_stats <= 10])\n",
    "\n",
    "# Print the result\n",
    "# This line outputs the count of locations with a value of 10 or less\n",
    "# in a formatted string for better readability.\n",
    "print(f\"The number of locations with a value of 10 or less is: {num_locations_10_or_less}\")"
   ]
  },
  {
   "cell_type": "code",
   "execution_count": 38,
   "id": "4a3fbe10-2deb-4e91-b7c7-4705df05577e",
   "metadata": {},
   "outputs": [
    {
     "name": "stdout",
     "output_type": "stream",
     "text": [
      "The number of unique locations is: 1293\n"
     ]
    }
   ],
   "source": [
    "# Get the number of unique locations in the 'location' column of the DataFrame 'df2'\n",
    "# The 'unique()' method returns an array of unique values from the specified column\n",
    "num_unique_locations = len(df2.location.unique())\n",
    "\n",
    "# Print the number of unique locations\n",
    "# The 'print()' function outputs the result to the console, formatted with an f-string\n",
    "print(f\"The number of unique locations is: {num_unique_locations}\")"
   ]
  },
  {
   "cell_type": "markdown",
   "id": "ba082486-9eed-4302-be0f-b5f89ecaa4b9",
   "metadata": {},
   "source": [
    "## <font color = 'blue'>Dimensionality Reduction"
   ]
  },
  {
   "cell_type": "markdown",
   "id": "59432507-e5e4-4856-a76e-4ca14c460f1b",
   "metadata": {},
   "source": [
    "**Any location having less than 10 data points should be tagged as \"other\" location. This way number of categories can be reduced by huge amount. Later on when we do one hot encoding, it will help us with having fewer dummy columns**"
   ]
  },
  {
   "cell_type": "code",
   "execution_count": 41,
   "id": "acae135f-a409-4653-887b-53fc1439fd2e",
   "metadata": {},
   "outputs": [
    {
     "data": {
      "text/plain": [
       "location\n",
       "Naganathapura                     10\n",
       "Sadashiva Nagar                   10\n",
       "Nagappa Reddy Layout              10\n",
       "BTM 1st Stage                     10\n",
       "Sector 1 HSR Layout               10\n",
       "                                  ..\n",
       "Vasantapura main road              1\n",
       "Bapuji Layout                      1\n",
       "1st Stage Radha Krishna Layout     1\n",
       "BEML Layout 5th stage              1\n",
       "Abshot Layout                      1\n",
       "Name: count, Length: 1052, dtype: int64"
      ]
     },
     "execution_count": 41,
     "metadata": {},
     "output_type": "execute_result"
    }
   ],
   "source": [
    "# Filter the 'location_stats' series or dataframe to include only those values\n",
    "# that are less than or equal to 10.\n",
    "location_stats_less_than_10 = location_stats[location_stats <= 10]\n",
    "\n",
    "# Display the filtered 'location_stats_less_than_10'\n",
    "# This will show all entries from 'location_stats' that meet the filtering criteria.\n",
    "location_stats_less_than_10"
   ]
  },
  {
   "cell_type": "code",
   "execution_count": 42,
   "id": "8b595241-f372-4d00-a8db-220ff54a0cc7",
   "metadata": {},
   "outputs": [
    {
     "data": {
      "text/plain": [
       "242"
      ]
     },
     "execution_count": 42,
     "metadata": {},
     "output_type": "execute_result"
    }
   ],
   "source": [
    "# Recategorize locations with less than 10 occurrences as 'others'\n",
    "df2.location = df2.location.apply(\n",
    "    # Use a lambda function to check each location\n",
    "    lambda x: 'others' if x in location_stats_less_than_10 else x\n",
    ")\n",
    "\n",
    "# Get the number of unique locations after recategorization\n",
    "num_unique_locations = len(df2.location.unique())  # Count unique locations in the updated 'location' column\n",
    "num_unique_locations  # Display the number of unique locations"
   ]
  },
  {
   "cell_type": "code",
   "execution_count": 43,
   "id": "98fff8b7-ef66-4c98-a5fd-0e9a4da7c2a7",
   "metadata": {},
   "outputs": [
    {
     "data": {
      "text/html": [
       "<div>\n",
       "<style scoped>\n",
       "    .dataframe tbody tr th:only-of-type {\n",
       "        vertical-align: middle;\n",
       "    }\n",
       "\n",
       "    .dataframe tbody tr th {\n",
       "        vertical-align: top;\n",
       "    }\n",
       "\n",
       "    .dataframe thead th {\n",
       "        text-align: right;\n",
       "    }\n",
       "</style>\n",
       "<table border=\"1\" class=\"dataframe\">\n",
       "  <thead>\n",
       "    <tr style=\"text-align: right;\">\n",
       "      <th></th>\n",
       "      <th>location</th>\n",
       "      <th>size</th>\n",
       "      <th>total_sqft</th>\n",
       "      <th>bath</th>\n",
       "      <th>price</th>\n",
       "      <th>bhk</th>\n",
       "      <th>price_per_sqft</th>\n",
       "    </tr>\n",
       "  </thead>\n",
       "  <tbody>\n",
       "    <tr>\n",
       "      <th>0</th>\n",
       "      <td>Electronic City Phase II</td>\n",
       "      <td>2 BHK</td>\n",
       "      <td>1056.0</td>\n",
       "      <td>2.0</td>\n",
       "      <td>39.07</td>\n",
       "      <td>2</td>\n",
       "      <td>3699.810606</td>\n",
       "    </tr>\n",
       "    <tr>\n",
       "      <th>1</th>\n",
       "      <td>Chikka Tirupathi</td>\n",
       "      <td>4 Bedroom</td>\n",
       "      <td>2600.0</td>\n",
       "      <td>5.0</td>\n",
       "      <td>120.00</td>\n",
       "      <td>4</td>\n",
       "      <td>4615.384615</td>\n",
       "    </tr>\n",
       "    <tr>\n",
       "      <th>2</th>\n",
       "      <td>Uttarahalli</td>\n",
       "      <td>3 BHK</td>\n",
       "      <td>1440.0</td>\n",
       "      <td>2.0</td>\n",
       "      <td>62.00</td>\n",
       "      <td>3</td>\n",
       "      <td>4305.555556</td>\n",
       "    </tr>\n",
       "    <tr>\n",
       "      <th>3</th>\n",
       "      <td>Lingadheeranahalli</td>\n",
       "      <td>3 BHK</td>\n",
       "      <td>1521.0</td>\n",
       "      <td>3.0</td>\n",
       "      <td>95.00</td>\n",
       "      <td>3</td>\n",
       "      <td>6245.890861</td>\n",
       "    </tr>\n",
       "    <tr>\n",
       "      <th>4</th>\n",
       "      <td>Kothanur</td>\n",
       "      <td>2 BHK</td>\n",
       "      <td>1200.0</td>\n",
       "      <td>2.0</td>\n",
       "      <td>51.00</td>\n",
       "      <td>2</td>\n",
       "      <td>4250.000000</td>\n",
       "    </tr>\n",
       "  </tbody>\n",
       "</table>\n",
       "</div>"
      ],
      "text/plain": [
       "                   location       size  total_sqft  bath   price  bhk  \\\n",
       "0  Electronic City Phase II      2 BHK      1056.0   2.0   39.07    2   \n",
       "1          Chikka Tirupathi  4 Bedroom      2600.0   5.0  120.00    4   \n",
       "2               Uttarahalli      3 BHK      1440.0   2.0   62.00    3   \n",
       "3        Lingadheeranahalli      3 BHK      1521.0   3.0   95.00    3   \n",
       "4                  Kothanur      2 BHK      1200.0   2.0   51.00    2   \n",
       "\n",
       "   price_per_sqft  \n",
       "0     3699.810606  \n",
       "1     4615.384615  \n",
       "2     4305.555556  \n",
       "3     6245.890861  \n",
       "4     4250.000000  "
      ]
     },
     "execution_count": 43,
     "metadata": {},
     "output_type": "execute_result"
    }
   ],
   "source": [
    "# Display the first 5 rows of the DataFrame\n",
    "# This function call retrieves and shows the top 5 entries of the DataFrame 'df2'\n",
    "df2.head()"
   ]
  },
  {
   "cell_type": "markdown",
   "id": "30f411ed-180f-49d9-9edb-ccf6cc5d6ca0",
   "metadata": {},
   "source": [
    "## <font color = 'blue'>Outlier Removal Using Business Logic"
   ]
  },
  {
   "cell_type": "markdown",
   "id": "924ae7bc-efa9-4f8c-8b12-fbbaff7dfc25",
   "metadata": {},
   "source": [
    "**As a data scientist when you have a conversation with your business manager (who has expertise in real estate), he will tell you that normally square ft per bedroom is 300 (i.e. 2 bhk apartment is minimum 600 sqft. If you have for example 400 sqft apartment with 2 bhk than that seems suspicious and can be removed as an outlier. We will remove such outliers by keeping our minimum thresold per bhk to be 300 sqft**"
   ]
  },
  {
   "cell_type": "code",
   "execution_count": 46,
   "id": "4287b95a-2547-43c5-a8f4-b5e3199467ea",
   "metadata": {},
   "outputs": [
    {
     "data": {
      "text/html": [
       "<div>\n",
       "<style scoped>\n",
       "    .dataframe tbody tr th:only-of-type {\n",
       "        vertical-align: middle;\n",
       "    }\n",
       "\n",
       "    .dataframe tbody tr th {\n",
       "        vertical-align: top;\n",
       "    }\n",
       "\n",
       "    .dataframe thead th {\n",
       "        text-align: right;\n",
       "    }\n",
       "</style>\n",
       "<table border=\"1\" class=\"dataframe\">\n",
       "  <thead>\n",
       "    <tr style=\"text-align: right;\">\n",
       "      <th></th>\n",
       "      <th>location</th>\n",
       "      <th>size</th>\n",
       "      <th>total_sqft</th>\n",
       "      <th>bath</th>\n",
       "      <th>price</th>\n",
       "      <th>bhk</th>\n",
       "      <th>price_per_sqft</th>\n",
       "    </tr>\n",
       "  </thead>\n",
       "  <tbody>\n",
       "    <tr>\n",
       "      <th>9</th>\n",
       "      <td>others</td>\n",
       "      <td>6 Bedroom</td>\n",
       "      <td>1020.0</td>\n",
       "      <td>6.0</td>\n",
       "      <td>370.0</td>\n",
       "      <td>6</td>\n",
       "      <td>36274.509804</td>\n",
       "    </tr>\n",
       "    <tr>\n",
       "      <th>45</th>\n",
       "      <td>HSR Layout</td>\n",
       "      <td>8 Bedroom</td>\n",
       "      <td>600.0</td>\n",
       "      <td>9.0</td>\n",
       "      <td>200.0</td>\n",
       "      <td>8</td>\n",
       "      <td>33333.333333</td>\n",
       "    </tr>\n",
       "    <tr>\n",
       "      <th>58</th>\n",
       "      <td>Murugeshpalya</td>\n",
       "      <td>6 Bedroom</td>\n",
       "      <td>1407.0</td>\n",
       "      <td>4.0</td>\n",
       "      <td>150.0</td>\n",
       "      <td>6</td>\n",
       "      <td>10660.980810</td>\n",
       "    </tr>\n",
       "    <tr>\n",
       "      <th>68</th>\n",
       "      <td>Devarachikkanahalli</td>\n",
       "      <td>8 Bedroom</td>\n",
       "      <td>1350.0</td>\n",
       "      <td>7.0</td>\n",
       "      <td>85.0</td>\n",
       "      <td>8</td>\n",
       "      <td>6296.296296</td>\n",
       "    </tr>\n",
       "    <tr>\n",
       "      <th>70</th>\n",
       "      <td>others</td>\n",
       "      <td>3 Bedroom</td>\n",
       "      <td>500.0</td>\n",
       "      <td>3.0</td>\n",
       "      <td>100.0</td>\n",
       "      <td>3</td>\n",
       "      <td>20000.000000</td>\n",
       "    </tr>\n",
       "  </tbody>\n",
       "</table>\n",
       "</div>"
      ],
      "text/plain": [
       "               location       size  total_sqft  bath  price  bhk  \\\n",
       "9                others  6 Bedroom      1020.0   6.0  370.0    6   \n",
       "45           HSR Layout  8 Bedroom       600.0   9.0  200.0    8   \n",
       "58        Murugeshpalya  6 Bedroom      1407.0   4.0  150.0    6   \n",
       "68  Devarachikkanahalli  8 Bedroom      1350.0   7.0   85.0    8   \n",
       "70               others  3 Bedroom       500.0   3.0  100.0    3   \n",
       "\n",
       "    price_per_sqft  \n",
       "9     36274.509804  \n",
       "45    33333.333333  \n",
       "58    10660.980810  \n",
       "68     6296.296296  \n",
       "70    20000.000000  "
      ]
     },
     "execution_count": 46,
     "metadata": {},
     "output_type": "execute_result"
    }
   ],
   "source": [
    "# Filter the dataframe df2 to include only rows where the total square footage per bedroom (bhk) is less than 300\n",
    "# This condition helps in identifying properties that may be overvalued based on their size per bedroom\n",
    "filtered_df = df2[df2.total_sqft / df2.bhk < 300]\n",
    "\n",
    "# Display the first few rows of the filtered dataframe\n",
    "# This allows us to quickly inspect the results of the filtering operation\n",
    "filtered_df.head()"
   ]
  },
  {
   "cell_type": "markdown",
   "id": "a73c9da4-384a-4f2a-ac16-008f84340303",
   "metadata": {},
   "source": [
    "**Check above data points. We have 6 bhk apartment with 1020 sqft. Another one is 8 bhk and total sqft is 600. These are clear data errors that can be removed safely**"
   ]
  },
  {
   "cell_type": "code",
   "execution_count": 48,
   "id": "63f99144-90e3-42ee-90dc-c86d566ed685",
   "metadata": {},
   "outputs": [
    {
     "data": {
      "text/plain": [
       "(13246, 7)"
      ]
     },
     "execution_count": 48,
     "metadata": {},
     "output_type": "execute_result"
    }
   ],
   "source": [
    "# Get the shape of the DataFrame df2, which returns a tuple representing \n",
    "# the number of rows and columns in the DataFrame.\n",
    "df2.shape"
   ]
  },
  {
   "cell_type": "code",
   "execution_count": 49,
   "id": "ff4d484e-5d73-4f08-b8f9-1279ec99f5b0",
   "metadata": {},
   "outputs": [
    {
     "data": {
      "text/plain": [
       "(12502, 7)"
      ]
     },
     "execution_count": 49,
     "metadata": {},
     "output_type": "execute_result"
    }
   ],
   "source": [
    "# Filter out rows where the total square footage per BHK is less than 300\n",
    "df2 = df2[~(df2.total_sqft/df2.bhk < 300)]\n",
    "\n",
    "# Get the shape of the DataFrame after filtering\n",
    "df2.shape"
   ]
  },
  {
   "cell_type": "markdown",
   "id": "8f65608e-d830-4212-a129-97a701ae1e8a",
   "metadata": {},
   "source": [
    "## <font color = 'blue'> Outlier Removal Using Standard Deviation and Mean"
   ]
  },
  {
   "cell_type": "code",
   "execution_count": 51,
   "id": "e81f8c93-2e49-45d7-a5b8-45453fdc8d10",
   "metadata": {},
   "outputs": [
    {
     "name": "stdout",
     "output_type": "stream",
     "text": [
      "count     12456.000000\n",
      "mean       6308.502826\n",
      "std        4168.127339\n",
      "min         267.829813\n",
      "25%        4210.526316\n",
      "50%        5294.117647\n",
      "75%        6916.666667\n",
      "max      176470.588235\n",
      "Name: price_per_sqft, dtype: float64\n"
     ]
    }
   ],
   "source": [
    "# Describe the price_per_sqft column\n",
    "print(df2.price_per_sqft.describe())"
   ]
  },
  {
   "cell_type": "markdown",
   "id": "f937af1b-8821-42b3-809f-37902eea404f",
   "metadata": {},
   "source": [
    "**Here we find that min price per sqft is 267 rs/sqft whereas max is 12000000, this shows a wide variation in property prices. We should remove outliers per location using mean and one standard deviation**"
   ]
  },
  {
   "cell_type": "code",
   "execution_count": 53,
   "id": "d49a7b25-20e7-4030-a478-98af8db0d0a8",
   "metadata": {},
   "outputs": [
    {
     "name": "stdout",
     "output_type": "stream",
     "text": [
      "(10241, 7)\n"
     ]
    }
   ],
   "source": [
    "# Define a function to remove price per square foot outliers\n",
    "def remove_pps_outliers(df):\n",
    "    \"\"\"\n",
    "    This function removes outliers from the price per square foot data.\n",
    "    It does this by calculating the mean and standard deviation of the price per square foot for each location,\n",
    "    and then removing any data points that are more than one standard deviation away from the mean.\n",
    "    \n",
    "    Args:\n",
    "    df (pandas.DataFrame): The input dataframe.\n",
    "    \n",
    "    Returns:\n",
    "    pandas.DataFrame: The dataframe with outliers removed.\n",
    "    \"\"\"\n",
    "    df_out = pd.DataFrame()\n",
    "    for key, subdf in df.groupby('location'):\n",
    "        m = np.mean(subdf.price_per_sqft)\n",
    "        st = np.std(subdf.price_per_sqft)\n",
    "        reduced_df = subdf[(subdf.price_per_sqft > (m-st)) & (subdf.price_per_sqft <= (m+st))]\n",
    "        df_out = pd.concat([df_out, reduced_df], ignore_index=True)\n",
    "    return df_out\n",
    "\n",
    "# Remove outliers from df2 and print the new shape\n",
    "df2 = remove_pps_outliers(df2)\n",
    "print(df2.shape)"
   ]
  },
  {
   "cell_type": "markdown",
   "id": "81304e83-b22c-4784-bfde-bc0a1832dbf0",
   "metadata": {},
   "source": [
    "**Lets check if for a given location how does the 2 BHK and 3 BHK property prices look like**"
   ]
  },
  {
   "cell_type": "code",
   "execution_count": 55,
   "id": "9d75a7e4-d3b5-4403-be67-c7af63ad27ce",
   "metadata": {},
   "outputs": [
    {
     "data": {
      "image/png": "[encoded data removed]",
      "text/plain": [
       "<Figure size 1500x1000 with 1 Axes>"
      ]
     },
     "metadata": {},
     "output_type": "display_data"
    }
   ],
   "source": [
    "# Define a function to plot a scatter chart for a given location\n",
    "def plot_scatter_chart(df, location):\n",
    "    \"\"\"\n",
    "    This function plots a scatter chart of the price vs. total square feet area for a given location,\n",
    "    with different colors for 2 BHK and 3 BHK properties.\n",
    "    \n",
    "    Args:\n",
    "    df (pandas.DataFrame): The input dataframe.\n",
    "    location (str): The location to plot the chart for.\n",
    "    \"\"\"\n",
    "    bhk2 = df[(df.location == location) & (df.bhk == 2)]\n",
    "    bhk3 = df[(df.location == location) & (df.bhk == 3)]\n",
    "    matplotlib.rcParams['figure.figsize'] = (15, 10)\n",
    "    plt.scatter(bhk2.total_sqft, bhk2.price, color='blue', label='2 BHK', s=50)\n",
    "    plt.scatter(bhk3.total_sqft, bhk3.price, marker='+', color='green', label='3 BHK', s=50)\n",
    "    plt.xlabel('Total Square Feet Area')\n",
    "    plt.ylabel('Price')\n",
    "    plt.title(location)\n",
    "    plt.legend()\n",
    "\n",
    "# Plot the scatter chart for Rajaji Nagar\n",
    "plot_scatter_chart(df2, 'Rajaji Nagar')"
   ]
  },
  {
   "cell_type": "markdown",
   "id": "f0450567-9547-4e22-84bb-9c5bf9e0a69b",
   "metadata": {},
   "source": [
    "**We should also remove properties where for same location, the price of (for example) 3 bedroom apartment is less than 2 bedroom apartment (with same square ft area). What we will do is for a given location, we will build a dictionary of stats per bhk, i.e.**\r\n",
    "\r\n",
    "{\r\n",
    "    '1' : {\r\n",
    "        'mean': 4000,\r\n",
    "        'std: 2000,\r\n",
    "        'coun4\r\n",
    "    },\r\n",
    "    '2' : {\r\n",
    "        'mean': 4300,\r\n",
    "        'std: 2300,\r\n",
    "        t: 22\n",
    "        \n",
    "\n",
    " \n",
    "**   },    \r\n",
    "}\r\n",
    "Now we can remove those 2 BHK apartments whose price_pe than mean price_per_sqft of 1 BHK apartment**sqft is less**"
   ]
  },
  {
   "cell_type": "code",
   "execution_count": 57,
   "id": "25621855-bc9a-44d0-971b-52d3c17d9aa4",
   "metadata": {},
   "outputs": [
    {
     "name": "stdout",
     "output_type": "stream",
     "text": [
      "(7329, 7)\n"
     ]
    }
   ],
   "source": [
    "# Define a function to remove BHK outliers\n",
    "def remove_bhk_outliers(df):\n",
    "    \"\"\"\n",
    "    This function removes outliers from the BHK data.\n",
    "    It does this by calculating the mean and standard deviation of the price per square foot for each BHK category\n",
    "    in each location, and then removing any data points that are less than the mean of the previous BHK category.\n",
    "    \n",
    "    Args:\n",
    "    df (pandas.DataFrame): The input dataframe.\n",
    "    \n",
    "    Returns:\n",
    "    pandas.DataFrame: The dataframe with outliers removed.\n",
    "    \"\"\"\n",
    "    exclude_indices = np.array([])\n",
    "    for location, location_df in df.groupby('location'):\n",
    "        bhk_stats = {}\n",
    "        for bhk, bhk_df in location_df.groupby('bhk'):\n",
    "            bhk_stats[bhk] = {\n",
    "                'mean': np.mean(bhk_df.price_per_sqft),\n",
    "                'std': np.std(bhk_df.price_per_sqft),\n",
    "                'count': bhk_df.shape[0]\n",
    "            }\n",
    "        for bhk, bhk_df in location_df.groupby('bhk'):\n",
    "            stats = bhk_stats.get(bhk-1)\n",
    "            if stats and stats['count'] > 5:\n",
    "                exclude_indices = np.append(exclude_indices, bhk_df[bhk_df.price_per_sqft < (stats['mean'])].index.values)\n",
    "    return df.drop(exclude_indices, axis='index')\n",
    "\n",
    "# Remove BHK outliers from df2 and print the new shape\n",
    "df2 = remove_bhk_outliers(df2)\n",
    "print(df2.shape)"
   ]
  },
  {
   "cell_type": "markdown",
   "id": "5a3d3d59-59fc-4aeb-8115-bc5337a93c82",
   "metadata": {},
   "source": [
    "**Plot same scatter chart again to visualize price_per_sqft for 2 BHK and 3 BHK properties**"
   ]
  },
  {
   "cell_type": "code",
   "execution_count": 59,
   "id": "aa765763-0d82-4524-9471-bd5ad986d5b3",
   "metadata": {},
   "outputs": [
    {
     "data": {
      "image/png": "[encoded data removed]",
      "text/plain": [
       "<Figure size 1500x1000 with 1 Axes>"
      ]
     },
     "metadata": {},
     "output_type": "display_data"
    }
   ],
   "source": [
    "# Plot the scatter chart for Hebbal\n",
    "plot_scatter_chart(df2, 'Hebbal')"
   ]
  },
  {
   "cell_type": "markdown",
   "id": "902185e3-06c1-456c-aea5-1c54525f0991",
   "metadata": {},
   "source": [
    "**Based on above charts we can see that data points highlighted in red below are outliers and they are being removed due to remove_bhk_outliers function**"
   ]
  },
  {
   "cell_type": "code",
   "execution_count": 61,
   "id": "ddbdc9d6-01a6-4200-81c4-5acf036cd287",
   "metadata": {},
   "outputs": [
    {
     "data": {
      "image/png": "[encoded data removed]",
      "text/plain": [
       "<Figure size 2000x1000 with 1 Axes>"
      ]
     },
     "metadata": {},
     "output_type": "display_data"
    }
   ],
   "source": [
    "# Plot a histogram of the price per square foot\n",
    "matplotlib.rcParams['figure.figsize'] = (20, 10)\n",
    "plt.hist(df2.price_per_sqft, rwidth=0.8)\n",
    "plt.xlabel('Price Per Square Feet')\n",
    "plt.ylabel('Count')\n",
    "plt.show()"
   ]
  },
  {
   "cell_type": "markdown",
   "id": "fdb064f9-093e-4361-ad13-9d3a8b04de70",
   "metadata": {},
   "source": [
    "## <font color = 'blue'>Outlier Removal Using Bathrooms Feature"
   ]
  },
  {
   "cell_type": "code",
   "execution_count": 63,
   "id": "ce1f1083-60be-4d5b-a548-ab033707d3b0",
   "metadata": {},
   "outputs": [
    {
     "name": "stdout",
     "output_type": "stream",
     "text": [
      "[ 4.  3.  2.  5.  8.  1.  6.  7.  9. 12. 16. 13.]\n"
     ]
    }
   ],
   "source": [
    "# Print the unique values of the bath column\n",
    "print(df2.bath.unique())\n"
   ]
  },
  {
   "cell_type": "code",
   "execution_count": 64,
   "id": "daa46c1a-faef-49b1-a72a-e105b5c09c0a",
   "metadata": {},
   "outputs": [
    {
     "data": {
      "image/png": "[encoded data removed]",
      "text/plain": [
       "<Figure size 2000x1000 with 1 Axes>"
      ]
     },
     "metadata": {},
     "output_type": "display_data"
    }
   ],
   "source": [
    "# Plot a histogram of the number of bathrooms\n",
    "plt.hist(df2.bath, rwidth=0.8)\n",
    "plt.xlabel('No. of bathrooms')\n",
    "plt.ylabel('Count')\n",
    "plt.show()"
   ]
  },
  {
   "cell_type": "code",
   "execution_count": 65,
   "id": "637c9b17-ab8d-44ae-83a1-2cb19b4f202f",
   "metadata": {},
   "outputs": [
    {
     "name": "stdout",
     "output_type": "stream",
     "text": [
      "            location    size  total_sqft  bath  price  bhk  price_per_sqft\n",
      "5277  Neeladri Nagar  10 BHK      4000.0  12.0  160.0   10     4000.000000\n",
      "8486          others  10 BHK     12000.0  12.0  525.0   10     4375.000000\n",
      "8575          others  16 BHK     10000.0  16.0  550.0   16     5500.000000\n",
      "9308          others  11 BHK      6000.0  12.0  150.0   11     2500.000000\n",
      "9639          others  13 BHK      5425.0  13.0  275.0   13     5069.124424\n"
     ]
    }
   ],
   "source": [
    "# Print the rows where the number of bathrooms is greater than 10\n",
    "print(df2[df2.bath > 10])\n"
   ]
  },
  {
   "cell_type": "markdown",
   "id": "a55bdc24-45c4-4fb4-a91e-a945b44ab5ae",
   "metadata": {},
   "source": [
    "**It is unusual to have 2 more bathrooms than number of bedrooms in a home**"
   ]
  },
  {
   "cell_type": "code",
   "execution_count": 67,
   "id": "35803552-387c-44c4-949d-a55c5db5a92a",
   "metadata": {},
   "outputs": [
    {
     "data": {
      "text/plain": [
       "(7251, 7)"
      ]
     },
     "execution_count": 67,
     "metadata": {},
     "output_type": "execute_result"
    }
   ],
   "source": [
    "# Remove rows where the number of bathrooms is greater than the number of bedrooms + 2\n",
    "df2 = df2[df2.bath < df2.bhk + 2]\n",
    "df2.shape"
   ]
  },
  {
   "cell_type": "markdown",
   "id": "5c29d9f8-e4bd-4f3b-b546-d3572ce18a5d",
   "metadata": {},
   "source": [
    "**Again the business manager has a conversation with you (i.e. a data scientist) that if you have 4 bedroom home and even if you have bathroom in all 4 rooms plus one guest bathroom, you will have total bath = total bed + 1 max. Anything above that is an outlier or a data error and can be removed**"
   ]
  },
  {
   "cell_type": "code",
   "execution_count": 69,
   "id": "515b41e5-1340-44cd-a5c2-e732a43a0c0e",
   "metadata": {},
   "outputs": [
    {
     "data": {
      "text/html": [
       "<div>\n",
       "<style scoped>\n",
       "    .dataframe tbody tr th:only-of-type {\n",
       "        vertical-align: middle;\n",
       "    }\n",
       "\n",
       "    .dataframe tbody tr th {\n",
       "        vertical-align: top;\n",
       "    }\n",
       "\n",
       "    .dataframe thead th {\n",
       "        text-align: right;\n",
       "    }\n",
       "</style>\n",
       "<table border=\"1\" class=\"dataframe\">\n",
       "  <thead>\n",
       "    <tr style=\"text-align: right;\">\n",
       "      <th></th>\n",
       "      <th>location</th>\n",
       "      <th>total_sqft</th>\n",
       "      <th>bath</th>\n",
       "      <th>price</th>\n",
       "      <th>bhk</th>\n",
       "    </tr>\n",
       "  </thead>\n",
       "  <tbody>\n",
       "    <tr>\n",
       "      <th>0</th>\n",
       "      <td>1st Block Jayanagar</td>\n",
       "      <td>2850.0</td>\n",
       "      <td>4.0</td>\n",
       "      <td>428.0</td>\n",
       "      <td>4</td>\n",
       "    </tr>\n",
       "    <tr>\n",
       "      <th>1</th>\n",
       "      <td>1st Block Jayanagar</td>\n",
       "      <td>1630.0</td>\n",
       "      <td>3.0</td>\n",
       "      <td>194.0</td>\n",
       "      <td>3</td>\n",
       "    </tr>\n",
       "    <tr>\n",
       "      <th>2</th>\n",
       "      <td>1st Block Jayanagar</td>\n",
       "      <td>1875.0</td>\n",
       "      <td>2.0</td>\n",
       "      <td>235.0</td>\n",
       "      <td>3</td>\n",
       "    </tr>\n",
       "    <tr>\n",
       "      <th>3</th>\n",
       "      <td>1st Block Jayanagar</td>\n",
       "      <td>1200.0</td>\n",
       "      <td>2.0</td>\n",
       "      <td>130.0</td>\n",
       "      <td>3</td>\n",
       "    </tr>\n",
       "    <tr>\n",
       "      <th>4</th>\n",
       "      <td>1st Block Jayanagar</td>\n",
       "      <td>1235.0</td>\n",
       "      <td>2.0</td>\n",
       "      <td>148.0</td>\n",
       "      <td>2</td>\n",
       "    </tr>\n",
       "  </tbody>\n",
       "</table>\n",
       "</div>"
      ],
      "text/plain": [
       "              location  total_sqft  bath  price  bhk\n",
       "0  1st Block Jayanagar      2850.0   4.0  428.0    4\n",
       "1  1st Block Jayanagar      1630.0   3.0  194.0    3\n",
       "2  1st Block Jayanagar      1875.0   2.0  235.0    3\n",
       "3  1st Block Jayanagar      1200.0   2.0  130.0    3\n",
       "4  1st Block Jayanagar      1235.0   2.0  148.0    2"
      ]
     },
     "execution_count": 69,
     "metadata": {},
     "output_type": "execute_result"
    }
   ],
   "source": [
    "# Drop the 'size' and 'price_per_sqft' columns\n",
    "df2 = df2.drop(['size', 'price_per_sqft'], axis=1)\n",
    "df2.head()"
   ]
  },
  {
   "cell_type": "markdown",
   "id": "cb04306a-4a7c-4a93-8a64-c3d137eb0c0d",
   "metadata": {},
   "source": [
    "## <font color = 'blue'>Use One Hot Encoding For Location"
   ]
  },
  {
   "cell_type": "code",
   "execution_count": 71,
   "id": "b27acd24-caa4-429a-b60a-5d3a6299021e",
   "metadata": {},
   "outputs": [
    {
     "data": {
      "text/html": [
       "<div>\n",
       "<style scoped>\n",
       "    .dataframe tbody tr th:only-of-type {\n",
       "        vertical-align: middle;\n",
       "    }\n",
       "\n",
       "    .dataframe tbody tr th {\n",
       "        vertical-align: top;\n",
       "    }\n",
       "\n",
       "    .dataframe thead th {\n",
       "        text-align: right;\n",
       "    }\n",
       "</style>\n",
       "<table border=\"1\" class=\"dataframe\">\n",
       "  <thead>\n",
       "    <tr style=\"text-align: right;\">\n",
       "      <th></th>\n",
       "      <th>1st Block Jayanagar</th>\n",
       "      <th>1st Phase JP Nagar</th>\n",
       "      <th>2nd Phase Judicial Layout</th>\n",
       "      <th>2nd Stage Nagarbhavi</th>\n",
       "      <th>5th Block Hbr Layout</th>\n",
       "      <th>5th Phase JP Nagar</th>\n",
       "      <th>6th Phase JP Nagar</th>\n",
       "      <th>7th Phase JP Nagar</th>\n",
       "      <th>8th Phase JP Nagar</th>\n",
       "      <th>9th Phase JP Nagar</th>\n",
       "      <th>...</th>\n",
       "      <th>Vishveshwarya Layout</th>\n",
       "      <th>Vishwapriya Layout</th>\n",
       "      <th>Vittasandra</th>\n",
       "      <th>Whitefield</th>\n",
       "      <th>Yelachenahalli</th>\n",
       "      <th>Yelahanka</th>\n",
       "      <th>Yelahanka New Town</th>\n",
       "      <th>Yelenahalli</th>\n",
       "      <th>Yeshwanthpur</th>\n",
       "      <th>others</th>\n",
       "    </tr>\n",
       "  </thead>\n",
       "  <tbody>\n",
       "    <tr>\n",
       "      <th>0</th>\n",
       "      <td>1</td>\n",
       "      <td>0</td>\n",
       "      <td>0</td>\n",
       "      <td>0</td>\n",
       "      <td>0</td>\n",
       "      <td>0</td>\n",
       "      <td>0</td>\n",
       "      <td>0</td>\n",
       "      <td>0</td>\n",
       "      <td>0</td>\n",
       "      <td>...</td>\n",
       "      <td>0</td>\n",
       "      <td>0</td>\n",
       "      <td>0</td>\n",
       "      <td>0</td>\n",
       "      <td>0</td>\n",
       "      <td>0</td>\n",
       "      <td>0</td>\n",
       "      <td>0</td>\n",
       "      <td>0</td>\n",
       "      <td>0</td>\n",
       "    </tr>\n",
       "    <tr>\n",
       "      <th>1</th>\n",
       "      <td>1</td>\n",
       "      <td>0</td>\n",
       "      <td>0</td>\n",
       "      <td>0</td>\n",
       "      <td>0</td>\n",
       "      <td>0</td>\n",
       "      <td>0</td>\n",
       "      <td>0</td>\n",
       "      <td>0</td>\n",
       "      <td>0</td>\n",
       "      <td>...</td>\n",
       "      <td>0</td>\n",
       "      <td>0</td>\n",
       "      <td>0</td>\n",
       "      <td>0</td>\n",
       "      <td>0</td>\n",
       "      <td>0</td>\n",
       "      <td>0</td>\n",
       "      <td>0</td>\n",
       "      <td>0</td>\n",
       "      <td>0</td>\n",
       "    </tr>\n",
       "    <tr>\n",
       "      <th>2</th>\n",
       "      <td>1</td>\n",
       "      <td>0</td>\n",
       "      <td>0</td>\n",
       "      <td>0</td>\n",
       "      <td>0</td>\n",
       "      <td>0</td>\n",
       "      <td>0</td>\n",
       "      <td>0</td>\n",
       "      <td>0</td>\n",
       "      <td>0</td>\n",
       "      <td>...</td>\n",
       "      <td>0</td>\n",
       "      <td>0</td>\n",
       "      <td>0</td>\n",
       "      <td>0</td>\n",
       "      <td>0</td>\n",
       "      <td>0</td>\n",
       "      <td>0</td>\n",
       "      <td>0</td>\n",
       "      <td>0</td>\n",
       "      <td>0</td>\n",
       "    </tr>\n",
       "  </tbody>\n",
       "</table>\n",
       "<p>3 rows × 242 columns</p>\n",
       "</div>"
      ],
      "text/plain": [
       "   1st Block Jayanagar  1st Phase JP Nagar  2nd Phase Judicial Layout  \\\n",
       "0                    1                   0                          0   \n",
       "1                    1                   0                          0   \n",
       "2                    1                   0                          0   \n",
       "\n",
       "   2nd Stage Nagarbhavi  5th Block Hbr Layout  5th Phase JP Nagar  \\\n",
       "0                     0                     0                   0   \n",
       "1                     0                     0                   0   \n",
       "2                     0                     0                   0   \n",
       "\n",
       "   6th Phase JP Nagar  7th Phase JP Nagar  8th Phase JP Nagar  \\\n",
       "0                   0                   0                   0   \n",
       "1                   0                   0                   0   \n",
       "2                   0                   0                   0   \n",
       "\n",
       "   9th Phase JP Nagar  ...  Vishveshwarya Layout  Vishwapriya Layout  \\\n",
       "0                   0  ...                     0                   0   \n",
       "1                   0  ...                     0                   0   \n",
       "2                   0  ...                     0                   0   \n",
       "\n",
       "   Vittasandra  Whitefield  Yelachenahalli  Yelahanka  Yelahanka New Town  \\\n",
       "0            0           0               0          0                   0   \n",
       "1            0           0               0          0                   0   \n",
       "2            0           0               0          0                   0   \n",
       "\n",
       "   Yelenahalli  Yeshwanthpur  others  \n",
       "0            0             0       0  \n",
       "1            0             0       0  \n",
       "2            0             0       0  \n",
       "\n",
       "[3 rows x 242 columns]"
      ]
     },
     "execution_count": 71,
     "metadata": {},
     "output_type": "execute_result"
    }
   ],
   "source": [
    "# Create dummy variables for the 'location' column\n",
    "dummies = pd.get_dummies(df2.location, dtype=int)\n",
    "dummies.head(3)"
   ]
  },
  {
   "cell_type": "code",
   "execution_count": 72,
   "id": "e8fb1218-c56a-43e1-ac25-1430629f2863",
   "metadata": {},
   "outputs": [
    {
     "data": {
      "text/html": [
       "<div>\n",
       "<style scoped>\n",
       "    .dataframe tbody tr th:only-of-type {\n",
       "        vertical-align: middle;\n",
       "    }\n",
       "\n",
       "    .dataframe tbody tr th {\n",
       "        vertical-align: top;\n",
       "    }\n",
       "\n",
       "    .dataframe thead th {\n",
       "        text-align: right;\n",
       "    }\n",
       "</style>\n",
       "<table border=\"1\" class=\"dataframe\">\n",
       "  <thead>\n",
       "    <tr style=\"text-align: right;\">\n",
       "      <th></th>\n",
       "      <th>location</th>\n",
       "      <th>total_sqft</th>\n",
       "      <th>bath</th>\n",
       "      <th>price</th>\n",
       "      <th>bhk</th>\n",
       "      <th>1st Block Jayanagar</th>\n",
       "      <th>1st Phase JP Nagar</th>\n",
       "      <th>2nd Phase Judicial Layout</th>\n",
       "      <th>2nd Stage Nagarbhavi</th>\n",
       "      <th>5th Block Hbr Layout</th>\n",
       "      <th>...</th>\n",
       "      <th>Vijayanagar</th>\n",
       "      <th>Vishveshwarya Layout</th>\n",
       "      <th>Vishwapriya Layout</th>\n",
       "      <th>Vittasandra</th>\n",
       "      <th>Whitefield</th>\n",
       "      <th>Yelachenahalli</th>\n",
       "      <th>Yelahanka</th>\n",
       "      <th>Yelahanka New Town</th>\n",
       "      <th>Yelenahalli</th>\n",
       "      <th>Yeshwanthpur</th>\n",
       "    </tr>\n",
       "  </thead>\n",
       "  <tbody>\n",
       "    <tr>\n",
       "      <th>0</th>\n",
       "      <td>1st Block Jayanagar</td>\n",
       "      <td>2850.0</td>\n",
       "      <td>4.0</td>\n",
       "      <td>428.0</td>\n",
       "      <td>4</td>\n",
       "      <td>1</td>\n",
       "      <td>0</td>\n",
       "      <td>0</td>\n",
       "      <td>0</td>\n",
       "      <td>0</td>\n",
       "      <td>...</td>\n",
       "      <td>0</td>\n",
       "      <td>0</td>\n",
       "      <td>0</td>\n",
       "      <td>0</td>\n",
       "      <td>0</td>\n",
       "      <td>0</td>\n",
       "      <td>0</td>\n",
       "      <td>0</td>\n",
       "      <td>0</td>\n",
       "      <td>0</td>\n",
       "    </tr>\n",
       "    <tr>\n",
       "      <th>1</th>\n",
       "      <td>1st Block Jayanagar</td>\n",
       "      <td>1630.0</td>\n",
       "      <td>3.0</td>\n",
       "      <td>194.0</td>\n",
       "      <td>3</td>\n",
       "      <td>1</td>\n",
       "      <td>0</td>\n",
       "      <td>0</td>\n",
       "      <td>0</td>\n",
       "      <td>0</td>\n",
       "      <td>...</td>\n",
       "      <td>0</td>\n",
       "      <td>0</td>\n",
       "      <td>0</td>\n",
       "      <td>0</td>\n",
       "      <td>0</td>\n",
       "      <td>0</td>\n",
       "      <td>0</td>\n",
       "      <td>0</td>\n",
       "      <td>0</td>\n",
       "      <td>0</td>\n",
       "    </tr>\n",
       "    <tr>\n",
       "      <th>2</th>\n",
       "      <td>1st Block Jayanagar</td>\n",
       "      <td>1875.0</td>\n",
       "      <td>2.0</td>\n",
       "      <td>235.0</td>\n",
       "      <td>3</td>\n",
       "      <td>1</td>\n",
       "      <td>0</td>\n",
       "      <td>0</td>\n",
       "      <td>0</td>\n",
       "      <td>0</td>\n",
       "      <td>...</td>\n",
       "      <td>0</td>\n",
       "      <td>0</td>\n",
       "      <td>0</td>\n",
       "      <td>0</td>\n",
       "      <td>0</td>\n",
       "      <td>0</td>\n",
       "      <td>0</td>\n",
       "      <td>0</td>\n",
       "      <td>0</td>\n",
       "      <td>0</td>\n",
       "    </tr>\n",
       "    <tr>\n",
       "      <th>3</th>\n",
       "      <td>1st Block Jayanagar</td>\n",
       "      <td>1200.0</td>\n",
       "      <td>2.0</td>\n",
       "      <td>130.0</td>\n",
       "      <td>3</td>\n",
       "      <td>1</td>\n",
       "      <td>0</td>\n",
       "      <td>0</td>\n",
       "      <td>0</td>\n",
       "      <td>0</td>\n",
       "      <td>...</td>\n",
       "      <td>0</td>\n",
       "      <td>0</td>\n",
       "      <td>0</td>\n",
       "      <td>0</td>\n",
       "      <td>0</td>\n",
       "      <td>0</td>\n",
       "      <td>0</td>\n",
       "      <td>0</td>\n",
       "      <td>0</td>\n",
       "      <td>0</td>\n",
       "    </tr>\n",
       "    <tr>\n",
       "      <th>4</th>\n",
       "      <td>1st Block Jayanagar</td>\n",
       "      <td>1235.0</td>\n",
       "      <td>2.0</td>\n",
       "      <td>148.0</td>\n",
       "      <td>2</td>\n",
       "      <td>1</td>\n",
       "      <td>0</td>\n",
       "      <td>0</td>\n",
       "      <td>0</td>\n",
       "      <td>0</td>\n",
       "      <td>...</td>\n",
       "      <td>0</td>\n",
       "      <td>0</td>\n",
       "      <td>0</td>\n",
       "      <td>0</td>\n",
       "      <td>0</td>\n",
       "      <td>0</td>\n",
       "      <td>0</td>\n",
       "      <td>0</td>\n",
       "      <td>0</td>\n",
       "      <td>0</td>\n",
       "    </tr>\n",
       "    <tr>\n",
       "      <th>...</th>\n",
       "      <td>...</td>\n",
       "      <td>...</td>\n",
       "      <td>...</td>\n",
       "      <td>...</td>\n",
       "      <td>...</td>\n",
       "      <td>...</td>\n",
       "      <td>...</td>\n",
       "      <td>...</td>\n",
       "      <td>...</td>\n",
       "      <td>...</td>\n",
       "      <td>...</td>\n",
       "      <td>...</td>\n",
       "      <td>...</td>\n",
       "      <td>...</td>\n",
       "      <td>...</td>\n",
       "      <td>...</td>\n",
       "      <td>...</td>\n",
       "      <td>...</td>\n",
       "      <td>...</td>\n",
       "      <td>...</td>\n",
       "      <td>...</td>\n",
       "    </tr>\n",
       "    <tr>\n",
       "      <th>10232</th>\n",
       "      <td>others</td>\n",
       "      <td>1200.0</td>\n",
       "      <td>2.0</td>\n",
       "      <td>70.0</td>\n",
       "      <td>2</td>\n",
       "      <td>0</td>\n",
       "      <td>0</td>\n",
       "      <td>0</td>\n",
       "      <td>0</td>\n",
       "      <td>0</td>\n",
       "      <td>...</td>\n",
       "      <td>0</td>\n",
       "      <td>0</td>\n",
       "      <td>0</td>\n",
       "      <td>0</td>\n",
       "      <td>0</td>\n",
       "      <td>0</td>\n",
       "      <td>0</td>\n",
       "      <td>0</td>\n",
       "      <td>0</td>\n",
       "      <td>0</td>\n",
       "    </tr>\n",
       "    <tr>\n",
       "      <th>10233</th>\n",
       "      <td>others</td>\n",
       "      <td>1800.0</td>\n",
       "      <td>1.0</td>\n",
       "      <td>200.0</td>\n",
       "      <td>1</td>\n",
       "      <td>0</td>\n",
       "      <td>0</td>\n",
       "      <td>0</td>\n",
       "      <td>0</td>\n",
       "      <td>0</td>\n",
       "      <td>...</td>\n",
       "      <td>0</td>\n",
       "      <td>0</td>\n",
       "      <td>0</td>\n",
       "      <td>0</td>\n",
       "      <td>0</td>\n",
       "      <td>0</td>\n",
       "      <td>0</td>\n",
       "      <td>0</td>\n",
       "      <td>0</td>\n",
       "      <td>0</td>\n",
       "    </tr>\n",
       "    <tr>\n",
       "      <th>10236</th>\n",
       "      <td>others</td>\n",
       "      <td>1353.0</td>\n",
       "      <td>2.0</td>\n",
       "      <td>110.0</td>\n",
       "      <td>2</td>\n",
       "      <td>0</td>\n",
       "      <td>0</td>\n",
       "      <td>0</td>\n",
       "      <td>0</td>\n",
       "      <td>0</td>\n",
       "      <td>...</td>\n",
       "      <td>0</td>\n",
       "      <td>0</td>\n",
       "      <td>0</td>\n",
       "      <td>0</td>\n",
       "      <td>0</td>\n",
       "      <td>0</td>\n",
       "      <td>0</td>\n",
       "      <td>0</td>\n",
       "      <td>0</td>\n",
       "      <td>0</td>\n",
       "    </tr>\n",
       "    <tr>\n",
       "      <th>10237</th>\n",
       "      <td>others</td>\n",
       "      <td>812.0</td>\n",
       "      <td>1.0</td>\n",
       "      <td>26.0</td>\n",
       "      <td>1</td>\n",
       "      <td>0</td>\n",
       "      <td>0</td>\n",
       "      <td>0</td>\n",
       "      <td>0</td>\n",
       "      <td>0</td>\n",
       "      <td>...</td>\n",
       "      <td>0</td>\n",
       "      <td>0</td>\n",
       "      <td>0</td>\n",
       "      <td>0</td>\n",
       "      <td>0</td>\n",
       "      <td>0</td>\n",
       "      <td>0</td>\n",
       "      <td>0</td>\n",
       "      <td>0</td>\n",
       "      <td>0</td>\n",
       "    </tr>\n",
       "    <tr>\n",
       "      <th>10240</th>\n",
       "      <td>others</td>\n",
       "      <td>3600.0</td>\n",
       "      <td>5.0</td>\n",
       "      <td>400.0</td>\n",
       "      <td>4</td>\n",
       "      <td>0</td>\n",
       "      <td>0</td>\n",
       "      <td>0</td>\n",
       "      <td>0</td>\n",
       "      <td>0</td>\n",
       "      <td>...</td>\n",
       "      <td>0</td>\n",
       "      <td>0</td>\n",
       "      <td>0</td>\n",
       "      <td>0</td>\n",
       "      <td>0</td>\n",
       "      <td>0</td>\n",
       "      <td>0</td>\n",
       "      <td>0</td>\n",
       "      <td>0</td>\n",
       "      <td>0</td>\n",
       "    </tr>\n",
       "  </tbody>\n",
       "</table>\n",
       "<p>7251 rows × 246 columns</p>\n",
       "</div>"
      ],
      "text/plain": [
       "                  location  total_sqft  bath  price  bhk  1st Block Jayanagar  \\\n",
       "0      1st Block Jayanagar      2850.0   4.0  428.0    4                    1   \n",
       "1      1st Block Jayanagar      1630.0   3.0  194.0    3                    1   \n",
       "2      1st Block Jayanagar      1875.0   2.0  235.0    3                    1   \n",
       "3      1st Block Jayanagar      1200.0   2.0  130.0    3                    1   \n",
       "4      1st Block Jayanagar      1235.0   2.0  148.0    2                    1   \n",
       "...                    ...         ...   ...    ...  ...                  ...   \n",
       "10232               others      1200.0   2.0   70.0    2                    0   \n",
       "10233               others      1800.0   1.0  200.0    1                    0   \n",
       "10236               others      1353.0   2.0  110.0    2                    0   \n",
       "10237               others       812.0   1.0   26.0    1                    0   \n",
       "10240               others      3600.0   5.0  400.0    4                    0   \n",
       "\n",
       "       1st Phase JP Nagar  2nd Phase Judicial Layout  2nd Stage Nagarbhavi  \\\n",
       "0                       0                          0                     0   \n",
       "1                       0                          0                     0   \n",
       "2                       0                          0                     0   \n",
       "3                       0                          0                     0   \n",
       "4                       0                          0                     0   \n",
       "...                   ...                        ...                   ...   \n",
       "10232                   0                          0                     0   \n",
       "10233                   0                          0                     0   \n",
       "10236                   0                          0                     0   \n",
       "10237                   0                          0                     0   \n",
       "10240                   0                          0                     0   \n",
       "\n",
       "       5th Block Hbr Layout  ...  Vijayanagar  Vishveshwarya Layout  \\\n",
       "0                         0  ...            0                     0   \n",
       "1                         0  ...            0                     0   \n",
       "2                         0  ...            0                     0   \n",
       "3                         0  ...            0                     0   \n",
       "4                         0  ...            0                     0   \n",
       "...                     ...  ...          ...                   ...   \n",
       "10232                     0  ...            0                     0   \n",
       "10233                     0  ...            0                     0   \n",
       "10236                     0  ...            0                     0   \n",
       "10237                     0  ...            0                     0   \n",
       "10240                     0  ...            0                     0   \n",
       "\n",
       "       Vishwapriya Layout  Vittasandra  Whitefield  Yelachenahalli  Yelahanka  \\\n",
       "0                       0            0           0               0          0   \n",
       "1                       0            0           0               0          0   \n",
       "2                       0            0           0               0          0   \n",
       "3                       0            0           0               0          0   \n",
       "4                       0            0           0               0          0   \n",
       "...                   ...          ...         ...             ...        ...   \n",
       "10232                   0            0           0               0          0   \n",
       "10233                   0            0           0               0          0   \n",
       "10236                   0            0           0               0          0   \n",
       "10237                   0            0           0               0          0   \n",
       "10240                   0            0           0               0          0   \n",
       "\n",
       "       Yelahanka New Town  Yelenahalli  Yeshwanthpur  \n",
       "0                       0            0             0  \n",
       "1                       0            0             0  \n",
       "2                       0            0             0  \n",
       "3                       0            0             0  \n",
       "4                       0            0             0  \n",
       "...                   ...          ...           ...  \n",
       "10232                   0            0             0  \n",
       "10233                   0            0             0  \n",
       "10236                   0            0             0  \n",
       "10237                   0            0             0  \n",
       "10240                   0            0             0  \n",
       "\n",
       "[7251 rows x 246 columns]"
      ]
     },
     "execution_count": 72,
     "metadata": {},
     "output_type": "execute_result"
    }
   ],
   "source": [
    "# Concatenate the dummy variables with the original dataframe\n",
    "df3 = pd.concat([df2, dummies.drop('others', axis=1)], axis=1)\n",
    "df3"
   ]
  },
  {
   "cell_type": "code",
   "execution_count": 73,
   "id": "2f0a834c-c1d4-457b-b7c3-473d3ca7411e",
   "metadata": {},
   "outputs": [
    {
     "data": {
      "text/plain": [
       "(7251, 245)"
      ]
     },
     "execution_count": 73,
     "metadata": {},
     "output_type": "execute_result"
    }
   ],
   "source": [
    "# Drop the 'location' column\n",
    "df3 = df3.drop('location', axis=1)\n",
    "df3.shape\n"
   ]
  },
  {
   "cell_type": "markdown",
   "id": "be798143-28b7-4abc-b1a8-489eefcd2a47",
   "metadata": {},
   "source": [
    "## <font color = 'blue'>Build a Model Now.."
   ]
  },
  {
   "cell_type": "code",
   "execution_count": 75,
   "id": "c8424e92-5eb1-4494-9e12-3e383f21bf8e",
   "metadata": {},
   "outputs": [],
   "source": [
    "# Split the data into X (features) and y (target)\n",
    "X = df3.drop('price', axis=1)\n",
    "y = df3.price"
   ]
  },
  {
   "cell_type": "code",
   "execution_count": 76,
   "id": "7b6dbb3f-cd17-4274-a796-4da6b85fa958",
   "metadata": {},
   "outputs": [],
   "source": [
    "# Split the data into train and test sets\n",
    "X_train, X_test, y_train, y_test = train_test_split(X, y, test_size=0.2, random_state=10)\n"
   ]
  },
  {
   "cell_type": "code",
   "execution_count": 77,
   "id": "d517a2c3-0f1c-487a-ae94-92d3482bb935",
   "metadata": {},
   "outputs": [
    {
     "name": "stdout",
     "output_type": "stream",
     "text": [
      "0.8452277697874324\n"
     ]
    }
   ],
   "source": [
    "# Train a linear regression model and print the test score\n",
    "lr_clf = LinearRegression()\n",
    "lr_clf.fit(X_train, y_train)\n",
    "print(lr_clf.score(X_test, y_test))"
   ]
  },
  {
   "cell_type": "markdown",
   "id": "8f5d02ad-f594-4c5d-99fa-a35401d4b2c9",
   "metadata": {},
   "source": [
    "## <font color = 'blue'>Evaluating Linear Regression with K-Fold Cross-Validation"
   ]
  },
  {
   "cell_type": "code",
   "execution_count": 79,
   "id": "de400531-9946-4639-a58c-2bbfd8b63338",
   "metadata": {},
   "outputs": [
    {
     "name": "stdout",
     "output_type": "stream",
     "text": [
      "[0.82430186 0.77166234 0.85089567 0.80837764 0.83653286]\n"
     ]
    }
   ],
   "source": [
    "# Perform cross-validation\n",
    "cv = ShuffleSplit(n_splits=5, test_size=0.2, random_state=0)\n",
    "print(cross_val_score(LinearRegression(), X, y, cv=cv))\n"
   ]
  },
  {
   "cell_type": "markdown",
   "id": "98c1648c-d693-4dd8-a976-712777c6fd68",
   "metadata": {},
   "source": [
    "## <font color = 'blue'>Find best model using GridSearchCV"
   ]
  },
  {
   "cell_type": "code",
   "execution_count": 81,
   "id": "7211df1f-0563-468d-8454-16a533ef2d61",
   "metadata": {},
   "outputs": [
    {
     "data": {
      "text/html": [
       "<div>\n",
       "<style scoped>\n",
       "    .dataframe tbody tr th:only-of-type {\n",
       "        vertical-align: middle;\n",
       "    }\n",
       "\n",
       "    .dataframe tbody tr th {\n",
       "        vertical-align: top;\n",
       "    }\n",
       "\n",
       "    .dataframe thead th {\n",
       "        text-align: right;\n",
       "    }\n",
       "</style>\n",
       "<table border=\"1\" class=\"dataframe\">\n",
       "  <thead>\n",
       "    <tr style=\"text-align: right;\">\n",
       "      <th></th>\n",
       "      <th>model</th>\n",
       "      <th>best_score</th>\n",
       "      <th>best_params</th>\n",
       "    </tr>\n",
       "  </thead>\n",
       "  <tbody>\n",
       "    <tr>\n",
       "      <th>0</th>\n",
       "      <td>linear_regression</td>\n",
       "      <td>0.819001</td>\n",
       "      <td>{'fit_intercept': False, 'positive': False}</td>\n",
       "    </tr>\n",
       "    <tr>\n",
       "      <th>1</th>\n",
       "      <td>lasso</td>\n",
       "      <td>0.687456</td>\n",
       "      <td>{'alpha': 1, 'selection': 'random'}</td>\n",
       "    </tr>\n",
       "    <tr>\n",
       "      <th>2</th>\n",
       "      <td>decision_tree</td>\n",
       "      <td>0.726638</td>\n",
       "      <td>{'criterion': 'squared_error', 'splitter': 'be...</td>\n",
       "    </tr>\n",
       "  </tbody>\n",
       "</table>\n",
       "</div>"
      ],
      "text/plain": [
       "               model  best_score  \\\n",
       "0  linear_regression    0.819001   \n",
       "1              lasso    0.687456   \n",
       "2      decision_tree    0.726638   \n",
       "\n",
       "                                         best_params  \n",
       "0        {'fit_intercept': False, 'positive': False}  \n",
       "1                {'alpha': 1, 'selection': 'random'}  \n",
       "2  {'criterion': 'squared_error', 'splitter': 'be...  "
      ]
     },
     "execution_count": 81,
     "metadata": {},
     "output_type": "execute_result"
    }
   ],
   "source": [
    "# Define a function to find the best model using GridSearchCV\n",
    "def find_best_model_using_gridsearchcv(X, y):\n",
    "    \"\"\"\n",
    "    This function uses GridSearchCV to find the best model and hyperparameters for the given data.\n",
    "    It compares the performance of three different models: linear regression, Lasso, and decision tree regression.\n",
    "    \n",
    "    Args:\n",
    "    X (pandas.DataFrame): The feature data.\n",
    "    y (pandas.Series): The target variable.\n",
    "    \n",
    "    Returns:\n",
    "    pandas.DataFrame: A dataframe containing the best score and best parameters for each model.\n",
    "    \"\"\"\n",
    "    algos = {\n",
    "        'linear_regression': {\n",
    "            'model': LinearRegression(),\n",
    "            'params': {\n",
    "                'fit_intercept': [True, False],\n",
    "                'positive': [True, False]\n",
    "            }\n",
    "        },\n",
    "        'lasso': {\n",
    "            'model': Lasso(),\n",
    "            'params': {\n",
    "                'alpha': [1, 2],\n",
    "                'selection': ['random', 'cyclic']\n",
    "            }\n",
    "        },\n",
    "        'decision_tree': {\n",
    "            'model': DecisionTreeRegressor(),\n",
    "            'params': {\n",
    "                'criterion': ['squared_error', 'friedman_mse'],\n",
    "                'splitter': ['best', 'random']\n",
    "            }\n",
    "        }\n",
    "    }\n",
    "    \n",
    "    scores = []\n",
    "    cv = ShuffleSplit(n_splits=5, test_size=0.2, random_state=0)\n",
    "    for algo_name, config in algos.items():\n",
    "        gs = GridSearchCV(config['model'], config['params'], cv=cv, return_train_score=False)\n",
    "        gs.fit(X, y)\n",
    "        scores.append({\n",
    "            'model': algo_name,\n",
    "            'best_score': gs.best_score_,\n",
    "            'best_params': gs.best_params_\n",
    "        })\n",
    "    return pd.DataFrame(scores, columns=['model', 'best_score', 'best_params'])\n",
    "\n",
    "# Use the find_best_model_using_gridsearchcv function\n",
    "find_best_model_using_gridsearchcv(X, y)\n"
   ]
  },
  {
   "cell_type": "markdown",
   "id": "0039f6d5-dd2f-4b98-b09a-8e31b7a6aa5e",
   "metadata": {},
   "source": [
    "## <font color = 'blue'>Test the model for few properties"
   ]
  },
  {
   "cell_type": "code",
   "execution_count": 83,
   "id": "e3d94080-6ead-4844-ba58-1bfd9bf203ca",
   "metadata": {},
   "outputs": [
    {
     "name": "stdout",
     "output_type": "stream",
     "text": [
      "83.49904677185246\n",
      "81.72616900760876\n",
      "181.2781548400676\n",
      "184.58430202033406\n"
     ]
    }
   ],
   "source": [
    "import warnings\n",
    "warnings.filterwarnings('ignore')\n",
    "# Define a function to predict the price of a property\n",
    "def predict_price(location, sqft, bath, bhk):\n",
    "    \"\"\"\n",
    "    This function predicts the price of a property based on its location, square footage, number of bathrooms, and number of bedrooms.\n",
    "    \n",
    "    Args:\n",
    "    location (str): The location of the property.\n",
    "    sqft (int): The total square footage of the property.\n",
    "    bath (int): The number of bathrooms in the property.\n",
    "    bhk (int): The number of bedrooms in the property.\n",
    "    \n",
    "    Returns:\n",
    "    float: The predicted price of the property.\n",
    "    \"\"\"\n",
    "    loc_index = np.where(X.columns == location)[0][0]\n",
    "\n",
    "    x = np.zeros(len(X.columns))\n",
    "    x[0] = sqft\n",
    "    x[1] = bath\n",
    "    x[2] = bhk\n",
    "    if loc_index >= 0:\n",
    "        x[loc_index] = 1\n",
    "\n",
    "    return lr_clf.predict([x])[0]\n",
    "\n",
    "# Test the predict_price function\n",
    "print(predict_price('1st Phase JP Nagar', 1000, 2, 2))\n",
    "print(predict_price('1st Phase JP Nagar', 1000, 2, 3))\n",
    "print(predict_price('Indira Nagar', 1000, 2, 2))\n",
    "print(predict_price('Indira Nagar', 1000, 3, 3))\n"
   ]
  },
  {
   "cell_type": "markdown",
   "id": "355caddc-109d-47eb-85fe-f662775c822a",
   "metadata": {},
   "source": [
    "## <font color = 'blue'>Export Model and Metadata"
   ]
  },
  {
   "cell_type": "code",
   "execution_count": 85,
   "id": "95ed2157-fd73-41fa-95ec-0c786229bfca",
   "metadata": {},
   "outputs": [],
   "source": [
    "# Save the trained model and column names to files\n",
    "with open('bangalore_home_prices_model.pickle', 'wb') as f:\n",
    "    pickle.dump(lr_clf, f)\n",
    "\n",
    "columns = {\n",
    "    'data_columns': [col.lower() for col in X.columns]\n",
    "}\n",
    "with open('columns.json', 'w') as f:\n",
    "    f.write(json.dumps(columns))"
   ]
  },
  {
   "cell_type": "code",
   "execution_count": null,
   "id": "8d80d7de-ca98-43d4-a899-695771c981b4",
   "metadata": {},
   "outputs": [],
   "source": []
  },
  {
   "cell_type": "code",
   "execution_count": null,
   "id": "f09c6104-b284-4144-976f-bba18a03102a",
   "metadata": {},
   "outputs": [],
   "source": []
  }
 ],
 "metadata": {
  "kernelspec": {
   "display_name": "Python 3 (ipykernel)",
   "language": "python",
   "name": "python3"
  },
  "language_info": {
   "codemirror_mode": {
    "name": "ipython",
    "version": 3
   },
   "file_extension": ".py",
   "mimetype": "text/x-python",
   "name": "python",
   "nbconvert_exporter": "python",
   "pygments_lexer": "ipython3",
   "version": "3.12.4"
  }
 },
 "nbformat": 4,
 "nbformat_minor": 5
}
